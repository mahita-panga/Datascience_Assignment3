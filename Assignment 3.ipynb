{
 "cells": [
  {
   "cell_type": "code",
   "execution_count": 1,
   "metadata": {},
   "outputs": [
    {
     "name": "stdout",
     "output_type": "stream",
     "text": [
      "Division by zero not possible\n"
     ]
    }
   ],
   "source": [
    "# Question 1: Write a function to compute 5/0 and use try/except to catch the exceptions\n",
    "\n",
    "\n",
    "a = 5 \n",
    "b = 0\n",
    "try:\n",
    "    c = a/b\n",
    "    print(c)\n",
    "except ZeroDivisionError:\n",
    "     print(\"Division by zero not possible\")\n"
   ]
  },
  {
   "cell_type": "code",
   "execution_count": 2,
   "metadata": {},
   "outputs": [
    {
     "name": "stdout",
     "output_type": "stream",
     "text": [
      "Americans  play Baseball\n",
      "Americans  play Cricket\n",
      "Americans  watch Baseball\n",
      "Americans  watch Cricket\n",
      "Indians play Baseball\n",
      "Indians play Cricket\n",
      "Indians watch Baseball\n",
      "Indians watch Cricket\n"
     ]
    }
   ],
   "source": [
    "# Question 2: Implement a Python program to generate all sentences where subject is in [\"Americans\",\n",
    "# \"Indians\"] and verb is in [\"Play\", \"watch\"] and the object is in [\"Baseball\",\"cricket\"].\n",
    "\n",
    "subjects=[\"Americans \",\"Indians\"]\n",
    "verbs=[\"play\",\"watch\"]\n",
    "objects=[\"Baseball\",\"Cricket\"]\n",
    "\n",
    "output_list = [ (sub +' '+ verb + ' ' + obj) for sub in subjects for verb in verbs for obj in objects]\n",
    "for op in output_list:\n",
    "    print(op)"
   ]
  },
  {
   "cell_type": "markdown",
   "metadata": {},
   "source": [
    "# Task 2"
   ]
  },
  {
   "cell_type": "code",
   "execution_count": 54,
   "metadata": {},
   "outputs": [
    {
     "name": "stdout",
     "output_type": "stream",
     "text": [
      "Enter array of elements\n",
      "1 2 3 4 5 6\n",
      "Enter n (no. of columns) 4\n",
      "Enter true/false false\n",
      "false\n",
      "Vandermonde Matrix is : \n",
      "[[  1   1   1   1]\n",
      " [  8   4   2   1]\n",
      " [ 27   9   3   1]\n",
      " [ 64  16   4   1]\n",
      " [125  25   5   1]\n",
      " [216  36   6   1]]\n"
     ]
    }
   ],
   "source": [
    "# Write a function so that the columns of the output matrix are powers of the input vector.\n",
    "# The order of the powers is determined by the increasing boolean argument. Specifically, when\n",
    "# increasing is False, the i-th output column is the input vector raised element-wise to the power\n",
    "# of N - i - 1.\n",
    "\n",
    "\n",
    "import numpy as np\n",
    "\n",
    "def vandermonde_matrix(mtrx,n,b):\n",
    "    if b==\"false\":\n",
    "        mtrx=np.array(mtrx)\n",
    "        for i in range(n):\n",
    "            mtrx[:,i] **= n-i-1   \n",
    "    elif b==\"true\":\n",
    "        print(\"Entered True\")\n",
    "        mtrx=np.array(mtrx)\n",
    "        for i in range(n):\n",
    "            mtrx[:,i] **= n-i-1  \n",
    "        mtrx[:,[0,n-1]] = mtrx[:,[n-1,0]]\n",
    "    return mtrx.astype(int)\n",
    "\n",
    "print(\"Enter array of elements\")\n",
    "arr=list(map(int,input().split()))\n",
    "n=int(input(\"Enter n (no. of columns) \"))\n",
    "b = input(\"Enter true/false \")\n",
    "print(b)\n",
    "np_arr = np.array(arr)\n",
    "z = np.zeros((n,len(arr)))\n",
    "arr = z+arr #broadcasting\n",
    "mat = vandermonde_matrix(arr.T,n,b)\n",
    "print(\"Vandermonde Matrix is : \\n%s\" %mat)\n",
    "\n",
    "\n"
   ]
  },
  {
   "cell_type": "markdown",
   "metadata": {},
   "source": []
  },
  {
   "cell_type": "code",
   "execution_count": null,
   "metadata": {},
   "outputs": [],
   "source": []
  }
 ],
 "metadata": {
  "kernelspec": {
   "display_name": "Python 3",
   "language": "python",
   "name": "python3"
  },
  "language_info": {
   "codemirror_mode": {
    "name": "ipython",
    "version": 3
   },
   "file_extension": ".py",
   "mimetype": "text/x-python",
   "name": "python",
   "nbconvert_exporter": "python",
   "pygments_lexer": "ipython3",
   "version": "3.6.5"
  }
 },
 "nbformat": 4,
 "nbformat_minor": 2
}
