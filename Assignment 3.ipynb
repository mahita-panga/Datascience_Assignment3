{
 "cells": [
  {
   "cell_type": "code",
   "execution_count": 1,
   "metadata": {},
   "outputs": [
    {
     "name": "stdout",
     "output_type": "stream",
     "text": [
      "Division by zero not possible\n"
     ]
    }
   ],
   "source": [
    "# Question 1: Write a function to compute 5/0 and use try/except to catch the exceptions\n",
    "\n",
    "\n",
    "a = 5 \n",
    "b = 0\n",
    "try:\n",
    "    c = a/b\n",
    "    print(c)\n",
    "except ZeroDivisionError:\n",
    "     print(\"Division by zero not possible\")\n"
   ]
  },
  {
   "cell_type": "code",
   "execution_count": 2,
   "metadata": {},
   "outputs": [
    {
     "name": "stdout",
     "output_type": "stream",
     "text": [
      "Americans  play Baseball\n",
      "Americans  play Cricket\n",
      "Americans  watch Baseball\n",
      "Americans  watch Cricket\n",
      "Indians play Baseball\n",
      "Indians play Cricket\n",
      "Indians watch Baseball\n",
      "Indians watch Cricket\n"
     ]
    }
   ],
   "source": [
    "# Question 2: Implement a Python program to generate all sentences where subject is in [\"Americans\",\n",
    "# \"Indians\"] and verb is in [\"Play\", \"watch\"] and the object is in [\"Baseball\",\"cricket\"].\n",
    "\n",
    "subjects=[\"Americans \",\"Indians\"]\n",
    "verbs=[\"play\",\"watch\"]\n",
    "objects=[\"Baseball\",\"Cricket\"]\n",
    "\n",
    "output_list = [ (sub +' '+ verb + ' ' + obj) for sub in subjects for verb in verbs for obj in objects]\n",
    "for op in output_list:\n",
    "    print(op)"
   ]
  },
  {
   "cell_type": "markdown",
   "metadata": {},
   "source": [
    "# Task 2"
   ]
  },
  {
   "cell_type": "code",
   "execution_count": 8,
   "metadata": {},
   "outputs": [
    {
     "name": "stdout",
     "output_type": "stream",
     "text": [
      "Enter number of rows in matrix: 3\n",
      "Enter number of columns in matrix: 3\n",
      "Enter the matrix elements (by pressing enter): \n",
      "1\n",
      "2\n",
      "3\n",
      "4\n",
      "5\n",
      "6\n",
      "7\n",
      "8\n",
      "9\n",
      "Matrix entered is : \n",
      " [[1 2 3]\n",
      " [4 5 6]\n",
      " [7 8 9]]\n",
      "Vandermonde Matrix is:\n",
      " [[  1   4  27]\n",
      " [  4  25 216]\n",
      " [  7  64 729]]\n"
     ]
    }
   ],
   "source": [
    "# Write a function so that the columns of the output matrix are powers of the input vector.\n",
    "# The order of the powers is determined by the increasing boolean argument. Specifically, when\n",
    "# increasing is False, the i-th output column is the input vector raised element-wise to the power\n",
    "# of N - i - 1.\n",
    "\n",
    "\n",
    "import numpy as np\n",
    "\n",
    "def vandermonde_matrix(mtrx,n):\n",
    "    mtrx=np.array(mtrx)\n",
    "    for i in range(n):\n",
    "        mtrx[:,i] **= i+1           \n",
    "    return mtrx\n",
    "\n",
    "\n",
    "rows = int(input(\"Enter number of rows in matrix: \"))\n",
    "clmns = int(input(\"Enter number of columns in matrix: \"))\n",
    "matrix = np.zeros((rows,clmns))\n",
    "matrix = matrix.astype(int)\n",
    "print(\"Enter the matrix elements (by pressing enter): \")\n",
    "for x in range (0,rows):\n",
    "    for y in range (0,clmns):\n",
    "        matrix[x][y] = input()\n",
    "print (\"Matrix entered is : \\n %s\"%matrix)\n",
    "van_mat = vandermonde_matrix(matrix,clmns)\n",
    "print(\"Vandermonde Matrix is:\\n %s\" %van_mat)\n"
   ]
  },
  {
   "cell_type": "markdown",
   "metadata": {},
   "source": []
  },
  {
   "cell_type": "code",
   "execution_count": null,
   "metadata": {},
   "outputs": [],
   "source": []
  }
 ],
 "metadata": {
  "kernelspec": {
   "display_name": "Python 3",
   "language": "python",
   "name": "python3"
  },
  "language_info": {
   "codemirror_mode": {
    "name": "ipython",
    "version": 3
   },
   "file_extension": ".py",
   "mimetype": "text/x-python",
   "name": "python",
   "nbconvert_exporter": "python",
   "pygments_lexer": "ipython3",
   "version": "3.6.5"
  }
 },
 "nbformat": 4,
 "nbformat_minor": 2
}
